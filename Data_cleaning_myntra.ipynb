{
  "cells": [
    {
      "cell_type": "code",
      "execution_count": 1,
      "id": "blessed-january",
      "metadata": {
        "id": "blessed-january"
      },
      "outputs": [
        {
          "name": "stderr",
          "output_type": "stream",
          "text": [
            "C:\\Users\\DSR\\AppData\\Local\\Temp\\ipykernel_8800\\192109009.py:2: DeprecationWarning: \n",
            "Pyarrow will become a required dependency of pandas in the next major release of pandas (pandas 3.0),\n",
            "(to allow more performant data types, such as the Arrow string type, and better interoperability with other libraries)\n",
            "but was not found to be installed on your system.\n",
            "If this would cause problems for you,\n",
            "please provide us feedback at https://github.com/pandas-dev/pandas/issues/54466\n",
            "        \n",
            "  import pandas as pd\n"
          ]
        }
      ],
      "source": [
        "import numpy as np\n",
        "import pandas as pd\n",
        "import seaborn as sns\n",
        "import matplotlib.pyplot as plt\n",
        "import re\n",
        "import pickle"
      ]
    },
    {
      "cell_type": "code",
      "execution_count": 2,
      "id": "needed-trustee",
      "metadata": {
        "id": "needed-trustee"
      },
      "outputs": [],
      "source": [
        "# Load Myntra dataset\n",
        "myntra = pd.read_csv('myntra_excel.csv',usecols=[2,9])"
      ]
    },
    {
      "cell_type": "code",
      "execution_count": 3,
      "id": "bound-vocabulary",
      "metadata": {
        "id": "bound-vocabulary",
        "outputId": "6c920cf3-d8cf-42b2-a510-4e79573d9554"
      },
      "outputs": [
        {
          "data": {
            "text/plain": [
              "Index(['product_id', 'title'], dtype='object')"
            ]
          },
          "execution_count": 3,
          "metadata": {},
          "output_type": "execute_result"
        }
      ],
      "source": [
        "myntra.columns"
      ]
    },
    {
      "cell_type": "code",
      "execution_count": 4,
      "id": "72963d75",
      "metadata": {},
      "outputs": [
        {
          "data": {
            "text/html": [
              "<div>\n",
              "<style scoped>\n",
              "    .dataframe tbody tr th:only-of-type {\n",
              "        vertical-align: middle;\n",
              "    }\n",
              "\n",
              "    .dataframe tbody tr th {\n",
              "        vertical-align: top;\n",
              "    }\n",
              "\n",
              "    .dataframe thead th {\n",
              "        text-align: right;\n",
              "    }\n",
              "</style>\n",
              "<table border=\"1\" class=\"dataframe\">\n",
              "  <thead>\n",
              "    <tr style=\"text-align: right;\">\n",
              "      <th></th>\n",
              "      <th>product_id</th>\n",
              "      <th>title</th>\n",
              "    </tr>\n",
              "  </thead>\n",
              "  <tbody>\n",
              "    <tr>\n",
              "      <th>0</th>\n",
              "      <td>6937673</td>\n",
              "      <td>IMARA Women Black Solid Top</td>\n",
              "    </tr>\n",
              "    <tr>\n",
              "      <th>1</th>\n",
              "      <td>7441182</td>\n",
              "      <td>House of Pataudi Men Black Printed Straight Kurta</td>\n",
              "    </tr>\n",
              "    <tr>\n",
              "      <th>2</th>\n",
              "      <td>9245141</td>\n",
              "      <td>The White Willow Unisex Off-White Therapedic M...</td>\n",
              "    </tr>\n",
              "    <tr>\n",
              "      <th>3</th>\n",
              "      <td>1314889</td>\n",
              "      <td>Dupatta Bazaar Pink Dupatta</td>\n",
              "    </tr>\n",
              "    <tr>\n",
              "      <th>4</th>\n",
              "      <td>7705322</td>\n",
              "      <td>Manyavar Men Yellow &amp; White Self Design Kurta ...</td>\n",
              "    </tr>\n",
              "    <tr>\n",
              "      <th>...</th>\n",
              "      <td>...</td>\n",
              "      <td>...</td>\n",
              "    </tr>\n",
              "    <tr>\n",
              "      <th>14995</th>\n",
              "      <td>10300951</td>\n",
              "      <td>LilPicks Boys Green &amp; Yellow Printed Kurta wit...</td>\n",
              "    </tr>\n",
              "    <tr>\n",
              "      <th>14996</th>\n",
              "      <td>5504617</td>\n",
              "      <td>Shakumbhari Women Pink Embroidered A-Line Kurta</td>\n",
              "    </tr>\n",
              "    <tr>\n",
              "      <th>14997</th>\n",
              "      <td>4375262</td>\n",
              "      <td>Anouk Women Green Floral Foil Printed Cardigan</td>\n",
              "    </tr>\n",
              "    <tr>\n",
              "      <th>14998</th>\n",
              "      <td>2012151</td>\n",
              "      <td>Anouk Women Green &amp; White Printed Straight Kurta</td>\n",
              "    </tr>\n",
              "    <tr>\n",
              "      <th>14999</th>\n",
              "      <td>9783251</td>\n",
              "      <td>RARE ROOTS Women Navy Blue Solid A-Line Dress</td>\n",
              "    </tr>\n",
              "  </tbody>\n",
              "</table>\n",
              "<p>15000 rows × 2 columns</p>\n",
              "</div>"
            ],
            "text/plain": [
              "       product_id                                              title\n",
              "0         6937673                        IMARA Women Black Solid Top\n",
              "1         7441182  House of Pataudi Men Black Printed Straight Kurta\n",
              "2         9245141  The White Willow Unisex Off-White Therapedic M...\n",
              "3         1314889                        Dupatta Bazaar Pink Dupatta\n",
              "4         7705322  Manyavar Men Yellow & White Self Design Kurta ...\n",
              "...           ...                                                ...\n",
              "14995    10300951  LilPicks Boys Green & Yellow Printed Kurta wit...\n",
              "14996     5504617    Shakumbhari Women Pink Embroidered A-Line Kurta\n",
              "14997     4375262     Anouk Women Green Floral Foil Printed Cardigan\n",
              "14998     2012151   Anouk Women Green & White Printed Straight Kurta\n",
              "14999     9783251      RARE ROOTS Women Navy Blue Solid A-Line Dress\n",
              "\n",
              "[15000 rows x 2 columns]"
            ]
          },
          "execution_count": 4,
          "metadata": {},
          "output_type": "execute_result"
        }
      ],
      "source": [
        "myntra"
      ]
    },
    {
      "cell_type": "code",
      "execution_count": 5,
      "id": "mysterious-substance",
      "metadata": {
        "id": "mysterious-substance",
        "outputId": "8bc843a0-2fcb-41d1-c51c-6b2bea835984"
      },
      "outputs": [
        {
          "data": {
            "text/plain": [
              "(11250, 2)"
            ]
          },
          "execution_count": 5,
          "metadata": {},
          "output_type": "execute_result"
        }
      ],
      "source": [
        "# Remove duplicate entries based on title from myntra\n",
        "myntra  = myntra.drop_duplicates(subset=['title'])\n",
        "myntra.shape\n"
      ]
    },
    {
      "cell_type": "code",
      "execution_count": 6,
      "id": "packed-grill",
      "metadata": {
        "id": "packed-grill"
      },
      "outputs": [],
      "source": [
        "# After removing duplicate values, Reset index of database\n",
        "myntra.reset_index(drop=True, inplace = True)"
      ]
    },
    {
      "cell_type": "code",
      "execution_count": 7,
      "id": "turned-holiday",
      "metadata": {
        "id": "turned-holiday",
        "outputId": "a4400a6e-3b8b-4c13-b15a-7ff58e7a8c28"
      },
      "outputs": [
        {
          "name": "stdout",
          "output_type": "stream",
          "text": [
            "Index(['product_id', 'title'], dtype='object')\n"
          ]
        }
      ],
      "source": [
        "# All the features of the dataset\n",
        "features = myntra.columns\n",
        "print(features)"
      ]
    },
    {
      "cell_type": "code",
      "execution_count": 8,
      "id": "roman-principal",
      "metadata": {
        "id": "roman-principal",
        "outputId": "e35e3bd2-500e-4659-f5a8-efefca869536"
      },
      "outputs": [
        {
          "data": {
            "text/plain": [
              "product_id    0\n",
              "title         0\n",
              "dtype: int64"
            ]
          },
          "execution_count": 8,
          "metadata": {},
          "output_type": "execute_result"
        }
      ],
      "source": [
        "# To check if the dataset has any null values or not\n",
        "myntra.isnull().sum()"
      ]
    },
    {
      "cell_type": "code",
      "execution_count": 9,
      "id": "moderate-bennett",
      "metadata": {
        "id": "moderate-bennett",
        "outputId": "140b53d2-f22f-4ec9-d69d-5e5a6d52a1b5"
      },
      "outputs": [
        {
          "data": {
            "text/plain": [
              "product_id                        6937673\n",
              "title         IMARA Women Black Solid Top\n",
              "Name: 0, dtype: object"
            ]
          },
          "execution_count": 9,
          "metadata": {},
          "output_type": "execute_result"
        }
      ],
      "source": [
        "# First row\n",
        "myntra.loc[0]"
      ]
    },
    {
      "cell_type": "code",
      "execution_count": 44,
      "id": "driving-laundry",
      "metadata": {
        "id": "driving-laundry",
        "outputId": "51aa5aac-7ba8-4be8-a3bd-7ebae8a74615"
      },
      "outputs": [
        {
          "data": {
            "text/plain": [
              "3000    3000\n",
              "3001    3001\n",
              "3002    3002\n",
              "3003    3003\n",
              "3004    3004\n",
              "        ... \n",
              "3195    3195\n",
              "3196    3196\n",
              "3197    3197\n",
              "3198    3198\n",
              "3199    3199\n",
              "Name: product_id, Length: 200, dtype: int64"
            ]
          },
          "execution_count": 44,
          "metadata": {},
          "output_type": "execute_result"
        }
      ],
      "source": [
        "x=myntra['product_id']\n",
        "x[3000:3200]"
      ]
    },
    {
      "cell_type": "code",
      "execution_count": 11,
      "id": "finnish-headset",
      "metadata": {
        "id": "finnish-headset",
        "outputId": "e328b341-88c5-4dda-f40b-b587b361b2c6"
      },
      "outputs": [
        {
          "data": {
            "text/plain": [
              "(11247, 2)"
            ]
          },
          "execution_count": 11,
          "metadata": {},
          "output_type": "execute_result"
        }
      ],
      "source": [
        "# Drop duplicate products based on product_id\n",
        "myntra = myntra.drop_duplicates(subset = [\"product_id\"])\n",
        "myntra.shape"
      ]
    },
    {
      "cell_type": "code",
      "execution_count": 12,
      "id": "serial-commissioner",
      "metadata": {
        "id": "serial-commissioner",
        "outputId": "df1afacf-6718-437b-e1c0-4b4fb51bf453"
      },
      "outputs": [
        {
          "data": {
            "text/plain": [
              "product_id\n",
              "6937673     1\n",
              "1619876     1\n",
              "2526069     1\n",
              "10222929    1\n",
              "8500699     1\n",
              "           ..\n",
              "2684781     1\n",
              "6698831     1\n",
              "2120034     1\n",
              "10024859    1\n",
              "2012151     1\n",
              "Name: count, Length: 11247, dtype: int64"
            ]
          },
          "execution_count": 12,
          "metadata": {},
          "output_type": "execute_result"
        }
      ],
      "source": [
        "# No duplicate entries available based on product_id\n",
        "myntra['product_id'].value_counts()"
      ]
    },
    {
      "cell_type": "code",
      "execution_count": 13,
      "id": "unique-lighting",
      "metadata": {
        "id": "unique-lighting"
      },
      "outputs": [],
      "source": [
        "# reset index\n",
        "myntra.reset_index(drop = True, inplace = True)"
      ]
    },
    {
      "cell_type": "code",
      "execution_count": 14,
      "id": "difficult-local",
      "metadata": {
        "id": "difficult-local"
      },
      "outputs": [],
      "source": [
        "# Remove all null values\n",
        "myntra.dropna(inplace = True)"
      ]
    },
    {
      "cell_type": "code",
      "execution_count": 15,
      "id": "upper-return",
      "metadata": {
        "id": "upper-return"
      },
      "outputs": [],
      "source": [
        "myntra.reset_index(inplace = True)"
      ]
    },
    {
      "cell_type": "code",
      "execution_count": 16,
      "id": "compliant-alpha",
      "metadata": {
        "id": "compliant-alpha"
      },
      "outputs": [],
      "source": [
        "\n",
        "# Product_id == index\n",
        "myntra['product_id'] = myntra['index']\n"
      ]
    },
    {
      "cell_type": "code",
      "execution_count": 36,
      "id": "crucial-reliance",
      "metadata": {
        "id": "crucial-reliance",
        "outputId": "cb32451a-455a-40a5-e2c8-2767b6bada7e"
      },
      "outputs": [
        {
          "data": {
            "text/plain": [
              "(11247, 3)"
            ]
          },
          "execution_count": 36,
          "metadata": {},
          "output_type": "execute_result"
        }
      ],
      "source": [
        "myntra = myntra.drop_duplicates(subset=['title'])\n",
        "myntra.shape"
      ]
    },
    {
      "cell_type": "code",
      "execution_count": 18,
      "id": "naked-scottish",
      "metadata": {
        "id": "naked-scottish"
      },
      "outputs": [],
      "source": [
        "# Load ratings dataset\n",
        "ratings = pd.read_csv('ratings.csv')"
      ]
    },
    {
      "cell_type": "code",
      "execution_count": 19,
      "id": "every-palestinian",
      "metadata": {
        "id": "every-palestinian"
      },
      "outputs": [],
      "source": [
        "# Drop unnecessery column\n",
        "ratings.drop('Unnamed: 0' , axis =1 , inplace = True)"
      ]
    },
    {
      "cell_type": "code",
      "execution_count": 37,
      "id": "buried-repair",
      "metadata": {
        "id": "buried-repair",
        "outputId": "02c19921-3a3c-498d-bf4b-6e7ab8c1d13d"
      },
      "outputs": [
        {
          "data": {
            "text/html": [
              "<div>\n",
              "<style scoped>\n",
              "    .dataframe tbody tr th:only-of-type {\n",
              "        vertical-align: middle;\n",
              "    }\n",
              "\n",
              "    .dataframe tbody tr th {\n",
              "        vertical-align: top;\n",
              "    }\n",
              "\n",
              "    .dataframe thead th {\n",
              "        text-align: right;\n",
              "    }\n",
              "</style>\n",
              "<table border=\"1\" class=\"dataframe\">\n",
              "  <thead>\n",
              "    <tr style=\"text-align: right;\">\n",
              "      <th></th>\n",
              "      <th>userId</th>\n",
              "      <th>product_id</th>\n",
              "      <th>Rating</th>\n",
              "      <th>index</th>\n",
              "      <th>title</th>\n",
              "    </tr>\n",
              "  </thead>\n",
              "  <tbody>\n",
              "    <tr>\n",
              "      <th>12567</th>\n",
              "      <td>1286</td>\n",
              "      <td>45</td>\n",
              "      <td>4.04</td>\n",
              "      <td>45</td>\n",
              "      <td>Libas Women Maroon Solid Straight Kurta</td>\n",
              "    </tr>\n",
              "    <tr>\n",
              "      <th>12568</th>\n",
              "      <td>4088</td>\n",
              "      <td>45</td>\n",
              "      <td>4.87</td>\n",
              "      <td>45</td>\n",
              "      <td>Libas Women Maroon Solid Straight Kurta</td>\n",
              "    </tr>\n",
              "    <tr>\n",
              "      <th>12569</th>\n",
              "      <td>5415</td>\n",
              "      <td>45</td>\n",
              "      <td>4.52</td>\n",
              "      <td>45</td>\n",
              "      <td>Libas Women Maroon Solid Straight Kurta</td>\n",
              "    </tr>\n",
              "    <tr>\n",
              "      <th>12570</th>\n",
              "      <td>5128</td>\n",
              "      <td>45</td>\n",
              "      <td>4.99</td>\n",
              "      <td>45</td>\n",
              "      <td>Libas Women Maroon Solid Straight Kurta</td>\n",
              "    </tr>\n",
              "    <tr>\n",
              "      <th>12571</th>\n",
              "      <td>29</td>\n",
              "      <td>45</td>\n",
              "      <td>4.19</td>\n",
              "      <td>45</td>\n",
              "      <td>Libas Women Maroon Solid Straight Kurta</td>\n",
              "    </tr>\n",
              "    <tr>\n",
              "      <th>...</th>\n",
              "      <td>...</td>\n",
              "      <td>...</td>\n",
              "      <td>...</td>\n",
              "      <td>...</td>\n",
              "      <td>...</td>\n",
              "    </tr>\n",
              "    <tr>\n",
              "      <th>28760</th>\n",
              "      <td>3677</td>\n",
              "      <td>104</td>\n",
              "      <td>4.06</td>\n",
              "      <td>104</td>\n",
              "      <td>Freehand Men Blue Printed Straight Kurta</td>\n",
              "    </tr>\n",
              "    <tr>\n",
              "      <th>28761</th>\n",
              "      <td>7187</td>\n",
              "      <td>104</td>\n",
              "      <td>4.73</td>\n",
              "      <td>104</td>\n",
              "      <td>Freehand Men Blue Printed Straight Kurta</td>\n",
              "    </tr>\n",
              "    <tr>\n",
              "      <th>28762</th>\n",
              "      <td>1693</td>\n",
              "      <td>104</td>\n",
              "      <td>4.52</td>\n",
              "      <td>104</td>\n",
              "      <td>Freehand Men Blue Printed Straight Kurta</td>\n",
              "    </tr>\n",
              "    <tr>\n",
              "      <th>28763</th>\n",
              "      <td>170</td>\n",
              "      <td>104</td>\n",
              "      <td>4.67</td>\n",
              "      <td>104</td>\n",
              "      <td>Freehand Men Blue Printed Straight Kurta</td>\n",
              "    </tr>\n",
              "    <tr>\n",
              "      <th>28764</th>\n",
              "      <td>4166</td>\n",
              "      <td>104</td>\n",
              "      <td>4.06</td>\n",
              "      <td>104</td>\n",
              "      <td>Freehand Men Blue Printed Straight Kurta</td>\n",
              "    </tr>\n",
              "  </tbody>\n",
              "</table>\n",
              "<p>16198 rows × 5 columns</p>\n",
              "</div>"
            ],
            "text/plain": [
              "       userId  product_id  Rating  index  \\\n",
              "12567    1286          45    4.04     45   \n",
              "12568    4088          45    4.87     45   \n",
              "12569    5415          45    4.52     45   \n",
              "12570    5128          45    4.99     45   \n",
              "12571      29          45    4.19     45   \n",
              "...       ...         ...     ...    ...   \n",
              "28760    3677         104    4.06    104   \n",
              "28761    7187         104    4.73    104   \n",
              "28762    1693         104    4.52    104   \n",
              "28763     170         104    4.67    104   \n",
              "28764    4166         104    4.06    104   \n",
              "\n",
              "                                          title  \n",
              "12567   Libas Women Maroon Solid Straight Kurta  \n",
              "12568   Libas Women Maroon Solid Straight Kurta  \n",
              "12569   Libas Women Maroon Solid Straight Kurta  \n",
              "12570   Libas Women Maroon Solid Straight Kurta  \n",
              "12571   Libas Women Maroon Solid Straight Kurta  \n",
              "...                                         ...  \n",
              "28760  Freehand Men Blue Printed Straight Kurta  \n",
              "28761  Freehand Men Blue Printed Straight Kurta  \n",
              "28762  Freehand Men Blue Printed Straight Kurta  \n",
              "28763  Freehand Men Blue Printed Straight Kurta  \n",
              "28764  Freehand Men Blue Printed Straight Kurta  \n",
              "\n",
              "[16198 rows x 5 columns]"
            ]
          },
          "execution_count": 37,
          "metadata": {},
          "output_type": "execute_result"
        }
      ],
      "source": [
        "# merge ratings dataset with myntra using product_id\n",
        "myntra_merge_ratings = ratings.merge(myntra , on=\"product_id\")\n",
        "myntra_merge_ratings[12567:28765]"
      ]
    },
    {
      "cell_type": "code",
      "execution_count": 139,
      "id": "peripheral-outline",
      "metadata": {
        "id": "peripheral-outline",
        "outputId": "4f19a71d-30df-4d81-c606-29488445f7f5"
      },
      "outputs": [
        {
          "data": {
            "text/plain": [
              "(2419078, 5)"
            ]
          },
          "execution_count": 139,
          "metadata": {},
          "output_type": "execute_result"
        }
      ],
      "source": [
        "myntra_merge_ratings.shape"
      ]
    },
    {
      "cell_type": "code",
      "execution_count": 29,
      "id": "f44de20e",
      "metadata": {},
      "outputs": [],
      "source": [
        "Title=myntra_merge_ratings['title'].unique()"
      ]
    },
    {
      "cell_type": "code",
      "execution_count": 32,
      "id": "1ac7e1b7",
      "metadata": {},
      "outputs": [
        {
          "data": {
            "text/plain": [
              "8771"
            ]
          },
          "execution_count": 32,
          "metadata": {},
          "output_type": "execute_result"
        }
      ],
      "source": [
        "len(Title)"
      ]
    }
  ],
  "metadata": {
    "colab": {
      "provenance": []
    },
    "kernelspec": {
      "display_name": "Python 3",
      "language": "python",
      "name": "python3"
    },
    "language_info": {
      "codemirror_mode": {
        "name": "ipython",
        "version": 3
      },
      "file_extension": ".py",
      "mimetype": "text/x-python",
      "name": "python",
      "nbconvert_exporter": "python",
      "pygments_lexer": "ipython3",
      "version": "3.12.1"
    }
  },
  "nbformat": 4,
  "nbformat_minor": 5
}
